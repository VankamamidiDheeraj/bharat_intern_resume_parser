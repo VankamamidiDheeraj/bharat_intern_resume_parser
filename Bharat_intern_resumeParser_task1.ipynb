{
 "cells": [
  {
   "cell_type": "code",
   "execution_count": 8,
   "id": "055b6e3f",
   "metadata": {},
   "outputs": [],
   "source": [
    "#import dependancies\n",
    "import nltk"
   ]
  },
  {
   "cell_type": "code",
   "execution_count": 9,
   "id": "2722a899",
   "metadata": {},
   "outputs": [],
   "source": [
    "#calculating score of candidate on basis of skills\n",
    "def calculate_score(job_requirements, candidate_skills):\n",
    "    # Calculate the number of matches between job requirements and candidate skills\n",
    "    match_count = sum(1 for word in job_requirements if word in candidate_skills)\n",
    "    return match_count\n"
   ]
  },
  {
   "cell_type": "code",
   "execution_count": 10,
   "id": "b9ecf34d",
   "metadata": {},
   "outputs": [],
   "source": [
    "#finding the best candidate\n",
    "def find_best_candidate(job_requirements, candidate_profiles):\n",
    "    best_candidate = None\n",
    "    best_score = 0\n",
    "\n",
    "    for candidate in candidate_profiles:\n",
    "        candidate_skills = candidate['skills']\n",
    "        candidate_experience = candidate['experience']\n",
    "        communication_skills = candidate['communication_skills']\n",
    "        \n",
    "        score = calculate_score(job_requirements, candidate_skills)\n",
    "        \n",
    "        # Adjust score based on experience\n",
    "        score += candidate_experience\n",
    "        \n",
    "        # Adjust score based on communication skills\n",
    "        if communication_skills == 'excellent':\n",
    "            score += 2\n",
    "        elif communication_skills == 'good':\n",
    "            score += 1\n",
    "        \n",
    "        # Check if the current candidate has a higher score than the previous best candidate\n",
    "        if score > best_score:\n",
    "            best_candidate = candidate\n",
    "            best_score = score\n",
    "\n",
    "    return best_candidate\n"
   ]
  },
  {
   "cell_type": "code",
   "execution_count": 11,
   "id": "da4b8963",
   "metadata": {},
   "outputs": [],
   "source": [
    "#printing best candidate for the job\n",
    "\n",
    "def print_candidate(candidate):\n",
    "    if candidate:\n",
    "        print(\"Best candidate for the job:\")\n",
    "        print(f\"Name: {candidate['name']}\")\n",
    "        print(f\"Skills: {', '.join(candidate['skills'])}\")\n",
    "        print(f\"Experience: {candidate['experience']} years\")\n",
    "        print(f\"Communication Skills: {candidate['communication_skills']}\")\n",
    "    else:\n",
    "        print(\"No suitable candidates found.\")"
   ]
  },
  {
   "cell_type": "code",
   "execution_count": 12,
   "id": "a1eb763d",
   "metadata": {},
   "outputs": [],
   "source": [
    "#taking requirements input for the job\n",
    "def get_job_requirements():\n",
    "    job_requirements = []\n",
    "    while True:\n",
    "        requirement = input(\"Enter a job requirement (or 'done' to finish): \")\n",
    "        if requirement.lower() == 'done':\n",
    "            break\n",
    "        job_requirements.append(requirement.lower())\n",
    "    return job_requirements"
   ]
  },
  {
   "cell_type": "code",
   "execution_count": 13,
   "id": "85deb2c1",
   "metadata": {},
   "outputs": [],
   "source": [
    "def main():\n",
    "    # Get job requirements from the user\n",
    "    print(\"Enter the job requirements:\")\n",
    "    job_requirements = get_job_requirements()\n",
    "\n",
    "    # Define candidate profiles\n",
    "    candidate_profiles = [\n",
    "        {\n",
    "            'name': 'Jenny',\n",
    "            'skills': ['java', 'data analysis', 'problem-solving'],\n",
    "            'experience': 1,\n",
    "            'communication_skills': 'excellent'\n",
    "        },\n",
    "        {\n",
    "            'name': 'Emma',\n",
    "            'skills': ['python', 'machine learning', 'data visualization','java'],\n",
    "            'experience': 5,\n",
    "            'communication_skills': 'good'\n",
    "        },\n",
    "        {\n",
    "            'name': 'Muzan',\n",
    "            'skills': ['python', 'machine learning', 'communication skills'],\n",
    "            'experience': 2,\n",
    "            'communication_skills': 'excellent'\n",
    "        },\n",
    "        {\n",
    "            'name': 'Sahaj',\n",
    "            'skills': ['python', 'deep learning', 'communication skills'],\n",
    "            'experience': 4,\n",
    "            'communication_skills': 'better'\n",
    "        },\n",
    "        {\n",
    "            'name': 'Dravid',\n",
    "            'skills': ['python', 'data engineering', 'communication skills','java'],\n",
    "            'experience': 6,\n",
    "            'communication_skills': 'better'\n",
    "        }\n",
    "    ]\n",
    "\n",
    "    # Find the best candidate\n",
    "    best_candidate = find_best_candidate(job_requirements, candidate_profiles)\n",
    "\n",
    "    # Output the best candidate\n",
    "    print_candidate(best_candidate)"
   ]
  },
  {
   "cell_type": "code",
   "execution_count": 14,
   "id": "eb5f3535",
   "metadata": {},
   "outputs": [
    {
     "name": "stdout",
     "output_type": "stream",
     "text": [
      "Enter the job requirements:\n",
      "Enter a job requirement (or 'done' to finish): data engineering\n",
      "Enter a job requirement (or 'done' to finish): done\n",
      "Best candidate for the job:\n",
      "Name: Dravid\n",
      "Skills: python, data engineering, communication skills, java\n",
      "Experience: 6 years\n",
      "Communication Skills: better\n"
     ]
    }
   ],
   "source": [
    "\n",
    "if __name__ == \"__main__\":\n",
    "    main()"
   ]
  },
  {
   "cell_type": "code",
   "execution_count": null,
   "id": "9fb34d8e",
   "metadata": {},
   "outputs": [],
   "source": []
  },
  {
   "cell_type": "code",
   "execution_count": null,
   "id": "acf3567e",
   "metadata": {},
   "outputs": [],
   "source": []
  },
  {
   "cell_type": "code",
   "execution_count": null,
   "id": "2fa67a70",
   "metadata": {},
   "outputs": [],
   "source": []
  }
 ],
 "metadata": {
  "kernelspec": {
   "display_name": "Python 3 (ipykernel)",
   "language": "python",
   "name": "python3"
  },
  "language_info": {
   "codemirror_mode": {
    "name": "ipython",
    "version": 3
   },
   "file_extension": ".py",
   "mimetype": "text/x-python",
   "name": "python",
   "nbconvert_exporter": "python",
   "pygments_lexer": "ipython3",
   "version": "3.10.9"
  }
 },
 "nbformat": 4,
 "nbformat_minor": 5
}
